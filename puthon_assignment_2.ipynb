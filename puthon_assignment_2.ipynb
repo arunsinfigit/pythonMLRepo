{
 "cells": [
  {
   "cell_type": "code",
   "execution_count": 10,
   "metadata": {},
   "outputs": [
    {
     "name": "stdout",
     "output_type": "stream",
     "text": [
      "myreduce output: 168\n"
     ]
    }
   ],
   "source": [
    "# Assignment 2\n",
    "\n",
    "# Task 1\n",
    "\n",
    "# 1.1 Write a Python Program to implement your own myreduce() function which works exactly like Python's built-in function reduce()\n",
    "\n",
    "def myreduce(function, sequence):\n",
    "    firstelement = sequence[0]\n",
    "    for i in sequence[1:]:\n",
    "        firstelement = function(firstelement, i)\n",
    "    return firstelement\n",
    "\n",
    "outputvalue = myreduce(lambda x,y:x*y, [1, 2, 3, 4,7])\n",
    "print(\"myreduce output: \"+str(outputvalue))"
   ]
  },
  {
   "cell_type": "code",
   "execution_count": 26,
   "metadata": {},
   "outputs": [
    {
     "name": "stdout",
     "output_type": "stream",
     "text": [
      "['using']\n"
     ]
    }
   ],
   "source": [
    "# 1.2 Write a Python program to implement your own myfilter() function which works exactly like Python's built-in function filter()\n",
    "def myFilter(f, L):\n",
    "    result = []\n",
    "    for x in L:\n",
    "        if f(x):\n",
    "            result.append(x)\n",
    "    return result\n",
    "\n",
    "sequence = \"Framework development using python\"\n",
    "sequence = sequence.split(\" \")\n",
    "List = list(myFilter(lambda x: x == 'using', sequence))\n",
    "print(List)"
   ]
  },
  {
   "cell_type": "code",
   "execution_count": 35,
   "metadata": {},
   "outputs": [
    {
     "name": "stdout",
     "output_type": "stream",
     "text": [
      "['A', 'C', 'A', 'D', 'G', 'I', 'L', 'D']\n",
      "['x', 'xx', 'xxx', 'xxxx', 'y', 'yy', 'yyy', 'yyyy', 'z', 'zz', 'zzz', 'zzzz']\n",
      "['x', 'y', 'z', 'xx', 'yy', 'zz', 'xxx', 'yyy', 'zzz', 'xxxx', 'yyyy', 'zzzz']\n",
      "[[2], [3], [4], [3], [4], [5], [4], [5], [6]]\n",
      "[[2, 3, 4, 5], [3, 4, 5, 6], [4, 5, 6, 7], [5, 6, 7, 8]]\n",
      "[(1, 1), (2, 1), (3, 1), (1, 2), (2, 2), (3, 2), (1, 3), (2, 3), (3, 3)]\n"
     ]
    }
   ],
   "source": [
    "\"\"\"\n",
    "2. Implement List comprehensions to produce the following lists.\n",
    "Write List comprehensions to produce the following Lists\n",
    "['A', 'C', 'A', 'D', 'G', 'I', ’L’, ‘ D’]\n",
    "['x', 'xx', 'xxx', 'xxxx', 'y', 'yy', 'yyy', 'yyyy', 'z', 'zz', 'zzz', 'zzzz']\n",
    "['x', 'y', 'z', 'xx', 'yy', 'zz', 'xx', 'yy', 'zz', 'xxxx', 'yyyy', 'zzzz']\n",
    "[[2], [3], [4], [3], [4], [5], [4], [5], [6]]\n",
    "[[2, 3, 4, 5], [3, 4, 5, 6], [4, 5, 6, 7], [5, 6, 7, 8]]\n",
    "[(1, 1), (2, 1), (3, 1), (1, 2), (2, 2), (3, 2), (1, 3), (2, 3), (3, 3)]\n",
    "\"\"\"\n",
    "# Comprehension Excercise 1\n",
    "output1 = [ letter for letter in 'ACADGILD' ]\n",
    "print( output1)\n",
    "\n",
    "# Comprehension  Excercise2\n",
    "s_letters = ['x','y','z']\n",
    "\n",
    "output2 = [ i*letter for i in s_letters for letter in range(1,5)  ]\n",
    "\n",
    "print(output2)\n",
    "\n",
    "# Comprehension Excercise 3\n",
    "\n",
    "output3 = [ i*letter for letter in range(1,5) for i in s_letters  ]\n",
    "\n",
    "print(output3)\n",
    "\n",
    "# Comprehension Excercise 4\n",
    "\n",
    "numbers_input = [2,3,4]\n",
    "\n",
    "output4 = [ [i+number] for i in numbers_input for number in range(0,3)]\n",
    "\n",
    "print(output4)\n",
    "\n",
    "# Comprehension Excercise 5\n",
    "\n",
    "\n",
    "numbers_input = [2,3,4,5]\n",
    "\n",
    "output5 = [ [i+number for i in numbers_input] for number in range(0,4)  ]\n",
    "\n",
    "print(output5)\n",
    "\n",
    "\n",
    "# Comprehension Excercise 6\n",
    "\n",
    "numbers_input=[1,2,3]\n",
    "\n",
    "output6 = [ (j,i) for i in numbers_input for j in numbers_input]\n",
    "\n",
    "print(output6)"
   ]
  },
  {
   "cell_type": "code",
   "execution_count": 39,
   "metadata": {},
   "outputs": [
    {
     "name": "stdout",
     "output_type": "stream",
     "text": [
      "of_words_and_returns\n"
     ]
    }
   ],
   "source": [
    "# 3. Implement a function longestWord() that takes a list of words and returns the longest one.\n",
    "\n",
    "def longestWord(inputlist):\n",
    "    len_array = []\n",
    "    for word in inputlist:\n",
    "        len_array.append((len(word), word))\n",
    "    len_array.sort()\n",
    "    return len_array[-1][1]\n",
    "\n",
    "print(longestWord([\"Implement\", \"function\", \"longestWord\", \"that\", \"takes\", \"list\", \"of_words_and_returns\", \"longest\"]))"
   ]
  },
  {
   "cell_type": "code",
   "execution_count": 51,
   "metadata": {},
   "outputs": [
    {
     "name": "stdout",
     "output_type": "stream",
     "text": [
      "Enter first side: 4\n",
      "Enter second side: 6\n",
      "Enter third side: 8\n",
      "Calculated Area: 11.61895003862225\n"
     ]
    }
   ],
   "source": [
    "# Task 2\n",
    "\"\"\"\n",
    "1.1 Write a Python Program(with class concepts) to find the area of the triangle using the below\n",
    "formula.\n",
    "area = (s*(s-a)*(s-b)*(s-c)) ** 0.5\n",
    "Function to take the length of the sides of triangle from user should be defined in the parent\n",
    "class and function to calculate the area should be defined in subclass.\n",
    "\n",
    "\"\"\"\n",
    "\n",
    "class triangle:\n",
    "    def __init__(self, first_side, second_side, third_side):\n",
    "        self.f_side = first_side\n",
    "        self.s_side = second_side\n",
    "        self.t_side = third_side\n",
    "    \n",
    "    def calc_area(self):\n",
    "        s = (self.f_side + self.s_side + self.t_side) / 2\n",
    "        area = (s*(s-self.f_side)*(s-self.s_side)*(s-self.t_side)) ** 0.5\n",
    "        print(\"Calculated Area: \"+str(area))\n",
    "\n",
    "a = float(input('Enter first side: '))\n",
    "b = float(input('Enter second side: '))\n",
    "c = float(input('Enter third side: '))\n",
    "\n",
    "tri_obj = triangle(a,b,c)\n",
    "\n",
    "tri_obj.calc_area()"
   ]
  },
  {
   "cell_type": "code",
   "execution_count": 59,
   "metadata": {},
   "outputs": [
    {
     "name": "stdout",
     "output_type": "stream",
     "text": [
      "['Implement', 'longestWord', 'of_words_and_returns']\n"
     ]
    }
   ],
   "source": [
    "# 1.2 Write a function filter_long_words() that takes a list of words and an integer n and returns the list of words that are longer than n.\n",
    "\n",
    "def filter_long_words(inputlist, n):\n",
    "    return list(filter(lambda x: len(x) > n, inputlist))\n",
    "    \n",
    "print(filter_long_words([\"Implement\", \"function\", \"longestWord\", \"that\", \"takes\", \"list\", \"of_words_and_returns\", \"longest\"], 8))\n"
   ]
  },
  {
   "cell_type": "code",
   "execution_count": 1,
   "metadata": {},
   "outputs": [
    {
     "name": "stdout",
     "output_type": "stream",
     "text": [
      "[9, 8, 11, 4, 5, 4, 20, 7]\n"
     ]
    }
   ],
   "source": [
    "\"\"\"\n",
    "2.1 Write a Python program using function concept that maps list of words into a list of integers\n",
    "representing the lengths of the corresponding words.\n",
    "Hint: If a list [ ab,cde,erty] is passed on to the python function output should come as [2,3,4]\n",
    "Here 2,3 and 4 are the lengths of the words in the list.\n",
    "\"\"\"\n",
    "\n",
    "def lenthmapfunc(inputlist):\n",
    "    lentharray=[]\n",
    "    for word in inputlist:\n",
    "        lentharray.append(len(word))\n",
    "    return lentharray\n",
    "\n",
    "print(lenthmapfunc([\"Implement\", \"function\", \"longestWord\", \"that\", \"takes\", \"list\", \"of_words_and_returns\", \"longest\"]))\n"
   ]
  },
  {
   "cell_type": "code",
   "execution_count": 11,
   "metadata": {},
   "outputs": [
    {
     "name": "stdout",
     "output_type": "stream",
     "text": [
      "Enter a character to check vowel: a\n",
      "Input Character a is Vowel? \n",
      "True\n"
     ]
    }
   ],
   "source": [
    "# 2.2 Write a Python function which takes a character (i.e. a string of length 1) and returns True if it is a vowel, False otherwise.\n",
    "\n",
    "def check_char_vowel():\n",
    "    char_val = input(\"Enter a character to check vowel: \")\n",
    "    while(len(char_val) != 1):\n",
    "        char_val = input(\"Enter a character to check vowel: \")\n",
    "    \n",
    "    vowels = ['a','e','i','o','u','A','E','I','O','U']\n",
    "    filtered =  list(filter(lambda c: c == char_val, vowels))\n",
    "    print(\"Input Character \"+char_val+\" is Vowel? \")\n",
    "    if(len(filtered) > 0):\n",
    "        return True\n",
    "    else:\n",
    "        return False\n",
    "        \n",
    "print(check_char_vowel())"
   ]
  },
  {
   "cell_type": "code",
   "execution_count": null,
   "metadata": {},
   "outputs": [],
   "source": []
  }
 ],
 "metadata": {
  "kernelspec": {
   "display_name": "Python 3",
   "language": "python",
   "name": "python3"
  },
  "language_info": {
   "codemirror_mode": {
    "name": "ipython",
    "version": 3
   },
   "file_extension": ".py",
   "mimetype": "text/x-python",
   "name": "python",
   "nbconvert_exporter": "python",
   "pygments_lexer": "ipython3",
   "version": "3.7.4"
  }
 },
 "nbformat": 4,
 "nbformat_minor": 2
}
